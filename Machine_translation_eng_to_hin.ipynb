{
 "cells": [
  {
   "cell_type": "code",
   "execution_count": 1,
   "id": "a4f49c21",
   "metadata": {
    "id": "a4f49c21"
   },
   "outputs": [],
   "source": [
    "def remove_dublicates(a):\n",
    "    for i in range(len(a)):\n",
    "        for j in range(len(a)):\n",
    "            if a[i]==a[j] and i!=j:\n",
    "                print((i+1)*j)\n",
    "                a[j] = 0\n",
    "    b = []\n",
    "    for i in range(len(a)):\n",
    "        if a[i]!=0:\n",
    "            b.append(a[i])\n",
    "\n",
    "    return b"
   ]
  },
  {
   "cell_type": "code",
   "execution_count": 2,
   "id": "9d6315b7",
   "metadata": {
    "id": "9d6315b7"
   },
   "outputs": [
    {
     "name": "stderr",
     "output_type": "stream",
     "text": [
      "C:\\Users\\Lenovo\\miniconda3\\envs\\tfgpu\\lib\\site-packages\\numpy\\_distributor_init.py:30: UserWarning: loaded more than 1 DLL from .libs:\n",
      "C:\\Users\\Lenovo\\miniconda3\\envs\\tfgpu\\lib\\site-packages\\numpy\\.libs\\libopenblas.EL2C6PLE4ZYW3ECEVIV3OXXGRN2NRFM2.gfortran-win_amd64.dll\n",
      "C:\\Users\\Lenovo\\miniconda3\\envs\\tfgpu\\lib\\site-packages\\numpy\\.libs\\libopenblas.WCDJNK7YVMPZQ2ME2ZZHJJRJ3JIKNDB7.gfortran-win_amd64.dll\n",
      "  warnings.warn(\"loaded more than 1 DLL from .libs:\"\n"
     ]
    }
   ],
   "source": [
    "import pandas as pd"
   ]
  },
  {
   "cell_type": "code",
   "execution_count": 3,
   "id": "d79d8bc5",
   "metadata": {
    "id": "d79d8bc5",
    "outputId": "10bcce45-199b-4c53-9964-fadc0d496cc6"
   },
   "outputs": [
    {
     "name": "stdout",
     "output_type": "stream",
     "text": [
      "1659083\n"
     ]
    }
   ],
   "source": [
    "f = open(\"IITB.en-hi.en\",\"r\",encoding='utf-8')\n",
    "lines = f.readlines()\n",
    "data = []\n",
    "\n",
    "for line in lines:\n",
    "    data.append(line)\n",
    "    \n",
    "print(len(data))"
   ]
  },
  {
   "cell_type": "code",
   "execution_count": 4,
   "id": "77633744",
   "metadata": {
    "id": "77633744"
   },
   "outputs": [],
   "source": [
    "df_english = pd.DataFrame(data,columns=['sentences'])"
   ]
  },
  {
   "cell_type": "code",
   "execution_count": 5,
   "id": "d6fe0b0c",
   "metadata": {
    "id": "d6fe0b0c",
    "outputId": "c7059847-9558-4f86-ac7c-e2507c7e276e"
   },
   "outputs": [
    {
     "data": {
      "text/plain": [
       "1659083"
      ]
     },
     "execution_count": 5,
     "metadata": {},
     "output_type": "execute_result"
    }
   ],
   "source": [
    "len(df_english)"
   ]
  },
  {
   "cell_type": "code",
   "execution_count": 6,
   "id": "014bc881",
   "metadata": {
    "id": "014bc881",
    "outputId": "aa67e78d-9efb-4a23-b9bc-e1b5a92fe6f7"
   },
   "outputs": [
    {
     "data": {
      "text/html": [
       "<div>\n",
       "<style scoped>\n",
       "    .dataframe tbody tr th:only-of-type {\n",
       "        vertical-align: middle;\n",
       "    }\n",
       "\n",
       "    .dataframe tbody tr th {\n",
       "        vertical-align: top;\n",
       "    }\n",
       "\n",
       "    .dataframe thead th {\n",
       "        text-align: right;\n",
       "    }\n",
       "</style>\n",
       "<table border=\"1\" class=\"dataframe\">\n",
       "  <thead>\n",
       "    <tr style=\"text-align: right;\">\n",
       "      <th></th>\n",
       "      <th>sentences</th>\n",
       "    </tr>\n",
       "  </thead>\n",
       "  <tbody>\n",
       "    <tr>\n",
       "      <th>0</th>\n",
       "      <td>Give your application an accessibility workout\\n</td>\n",
       "    </tr>\n",
       "    <tr>\n",
       "      <th>1</th>\n",
       "      <td>Accerciser Accessibility Explorer\\n</td>\n",
       "    </tr>\n",
       "    <tr>\n",
       "      <th>2</th>\n",
       "      <td>The default plugin layout for the bottom panel\\n</td>\n",
       "    </tr>\n",
       "    <tr>\n",
       "      <th>3</th>\n",
       "      <td>The default plugin layout for the top panel\\n</td>\n",
       "    </tr>\n",
       "    <tr>\n",
       "      <th>4</th>\n",
       "      <td>A list of plugins that are disabled by default\\n</td>\n",
       "    </tr>\n",
       "  </tbody>\n",
       "</table>\n",
       "</div>"
      ],
      "text/plain": [
       "                                          sentences\n",
       "0  Give your application an accessibility workout\\n\n",
       "1               Accerciser Accessibility Explorer\\n\n",
       "2  The default plugin layout for the bottom panel\\n\n",
       "3     The default plugin layout for the top panel\\n\n",
       "4  A list of plugins that are disabled by default\\n"
      ]
     },
     "execution_count": 6,
     "metadata": {},
     "output_type": "execute_result"
    }
   ],
   "source": [
    "df_english.head()"
   ]
  },
  {
   "cell_type": "code",
   "execution_count": 7,
   "id": "61e2555e",
   "metadata": {
    "id": "61e2555e"
   },
   "outputs": [],
   "source": [
    "df_english['sentences'] = df_english['sentences'].apply(lambda x: x[:-1])"
   ]
  },
  {
   "cell_type": "code",
   "execution_count": 8,
   "id": "0dff4145",
   "metadata": {
    "id": "0dff4145",
    "outputId": "ddef7988-b2a1-47d0-f9d3-507c149288c5"
   },
   "outputs": [
    {
     "data": {
      "text/html": [
       "<div>\n",
       "<style scoped>\n",
       "    .dataframe tbody tr th:only-of-type {\n",
       "        vertical-align: middle;\n",
       "    }\n",
       "\n",
       "    .dataframe tbody tr th {\n",
       "        vertical-align: top;\n",
       "    }\n",
       "\n",
       "    .dataframe thead th {\n",
       "        text-align: right;\n",
       "    }\n",
       "</style>\n",
       "<table border=\"1\" class=\"dataframe\">\n",
       "  <thead>\n",
       "    <tr style=\"text-align: right;\">\n",
       "      <th></th>\n",
       "      <th>sentences</th>\n",
       "    </tr>\n",
       "  </thead>\n",
       "  <tbody>\n",
       "    <tr>\n",
       "      <th>0</th>\n",
       "      <td>Give your application an accessibility workout</td>\n",
       "    </tr>\n",
       "    <tr>\n",
       "      <th>1</th>\n",
       "      <td>Accerciser Accessibility Explorer</td>\n",
       "    </tr>\n",
       "    <tr>\n",
       "      <th>2</th>\n",
       "      <td>The default plugin layout for the bottom panel</td>\n",
       "    </tr>\n",
       "    <tr>\n",
       "      <th>3</th>\n",
       "      <td>The default plugin layout for the top panel</td>\n",
       "    </tr>\n",
       "    <tr>\n",
       "      <th>4</th>\n",
       "      <td>A list of plugins that are disabled by default</td>\n",
       "    </tr>\n",
       "    <tr>\n",
       "      <th>...</th>\n",
       "      <td>...</td>\n",
       "    </tr>\n",
       "    <tr>\n",
       "      <th>1659078</th>\n",
       "      <td>The Prime Minister, Shri Narendra Modi has con...</td>\n",
       "    </tr>\n",
       "    <tr>\n",
       "      <th>1659079</th>\n",
       "      <td>In a tweet, the Prime Minister said, congratul...</td>\n",
       "    </tr>\n",
       "    <tr>\n",
       "      <th>1659080</th>\n",
       "      <td>I also congratulate all those who took oath as...</td>\n",
       "    </tr>\n",
       "    <tr>\n",
       "      <th>1659081</th>\n",
       "      <td>The NDA family will work together for the prog...</td>\n",
       "    </tr>\n",
       "    <tr>\n",
       "      <th>1659082</th>\n",
       "      <td>I assure all possible support from the Centre ...</td>\n",
       "    </tr>\n",
       "  </tbody>\n",
       "</table>\n",
       "<p>1659083 rows × 1 columns</p>\n",
       "</div>"
      ],
      "text/plain": [
       "                                                 sentences\n",
       "0           Give your application an accessibility workout\n",
       "1                        Accerciser Accessibility Explorer\n",
       "2           The default plugin layout for the bottom panel\n",
       "3              The default plugin layout for the top panel\n",
       "4           A list of plugins that are disabled by default\n",
       "...                                                    ...\n",
       "1659078  The Prime Minister, Shri Narendra Modi has con...\n",
       "1659079  In a tweet, the Prime Minister said, congratul...\n",
       "1659080  I also congratulate all those who took oath as...\n",
       "1659081  The NDA family will work together for the prog...\n",
       "1659082  I assure all possible support from the Centre ...\n",
       "\n",
       "[1659083 rows x 1 columns]"
      ]
     },
     "execution_count": 8,
     "metadata": {},
     "output_type": "execute_result"
    }
   ],
   "source": [
    "df_english"
   ]
  },
  {
   "cell_type": "code",
   "execution_count": 9,
   "id": "2074ec3c",
   "metadata": {
    "id": "2074ec3c",
    "outputId": "81f43098-325a-4638-e2c5-ebd85e22b352"
   },
   "outputs": [
    {
     "data": {
      "text/html": [
       "<div>\n",
       "<style scoped>\n",
       "    .dataframe tbody tr th:only-of-type {\n",
       "        vertical-align: middle;\n",
       "    }\n",
       "\n",
       "    .dataframe tbody tr th {\n",
       "        vertical-align: top;\n",
       "    }\n",
       "\n",
       "    .dataframe thead th {\n",
       "        text-align: right;\n",
       "    }\n",
       "</style>\n",
       "<table border=\"1\" class=\"dataframe\">\n",
       "  <thead>\n",
       "    <tr style=\"text-align: right;\">\n",
       "      <th></th>\n",
       "      <th>sentences</th>\n",
       "      <th>flag</th>\n",
       "    </tr>\n",
       "  </thead>\n",
       "  <tbody>\n",
       "    <tr>\n",
       "      <th>0</th>\n",
       "      <td>Give your application an accessibility workout</td>\n",
       "      <td>True</td>\n",
       "    </tr>\n",
       "    <tr>\n",
       "      <th>1</th>\n",
       "      <td>Accerciser Accessibility Explorer</td>\n",
       "      <td>True</td>\n",
       "    </tr>\n",
       "    <tr>\n",
       "      <th>2</th>\n",
       "      <td>The default plugin layout for the bottom panel</td>\n",
       "      <td>True</td>\n",
       "    </tr>\n",
       "    <tr>\n",
       "      <th>3</th>\n",
       "      <td>The default plugin layout for the top panel</td>\n",
       "      <td>True</td>\n",
       "    </tr>\n",
       "    <tr>\n",
       "      <th>4</th>\n",
       "      <td>A list of plugins that are disabled by default</td>\n",
       "      <td>True</td>\n",
       "    </tr>\n",
       "    <tr>\n",
       "      <th>5</th>\n",
       "      <td>Highlight duration</td>\n",
       "      <td>False</td>\n",
       "    </tr>\n",
       "    <tr>\n",
       "      <th>6</th>\n",
       "      <td>The duration of the highlight box when selecti...</td>\n",
       "      <td>True</td>\n",
       "    </tr>\n",
       "    <tr>\n",
       "      <th>7</th>\n",
       "      <td>Highlight border color</td>\n",
       "      <td>False</td>\n",
       "    </tr>\n",
       "    <tr>\n",
       "      <th>8</th>\n",
       "      <td>The color and opacity of the highlight border.</td>\n",
       "      <td>True</td>\n",
       "    </tr>\n",
       "    <tr>\n",
       "      <th>9</th>\n",
       "      <td>Highlight fill color</td>\n",
       "      <td>False</td>\n",
       "    </tr>\n",
       "    <tr>\n",
       "      <th>10</th>\n",
       "      <td>The color and opacity of the highlight fill.</td>\n",
       "      <td>True</td>\n",
       "    </tr>\n",
       "    <tr>\n",
       "      <th>11</th>\n",
       "      <td>API Browser</td>\n",
       "      <td>False</td>\n",
       "    </tr>\n",
       "  </tbody>\n",
       "</table>\n",
       "</div>"
      ],
      "text/plain": [
       "                                            sentences   flag\n",
       "0      Give your application an accessibility workout   True\n",
       "1                   Accerciser Accessibility Explorer   True\n",
       "2      The default plugin layout for the bottom panel   True\n",
       "3         The default plugin layout for the top panel   True\n",
       "4      A list of plugins that are disabled by default   True\n",
       "5                                  Highlight duration  False\n",
       "6   The duration of the highlight box when selecti...   True\n",
       "7                              Highlight border color  False\n",
       "8      The color and opacity of the highlight border.   True\n",
       "9                                Highlight fill color  False\n",
       "10       The color and opacity of the highlight fill.   True\n",
       "11                                        API Browser  False"
      ]
     },
     "execution_count": 9,
     "metadata": {},
     "output_type": "execute_result"
    }
   ],
   "source": [
    "df_english['flag'] = df_english['sentences'].apply(lambda x: 'True' if type(x)==type(df_english['sentences'][0]) and len(x)>30 and len(x)<90 else 'False')\n",
    "flag = df_english['flag']\n",
    "df_english.head(12)"
   ]
  },
  {
   "cell_type": "code",
   "execution_count": 10,
   "id": "3bb725aa",
   "metadata": {
    "id": "3bb725aa"
   },
   "outputs": [],
   "source": [
    "f = open(\"IITB.en-hi.hi\",\"r\",encoding='utf-8')\n",
    "lines = f.readlines()\n",
    "data = []\n",
    "string = '' \n",
    "for line in lines:\n",
    "    data.append(line[:-1])"
   ]
  },
  {
   "cell_type": "code",
   "execution_count": 11,
   "id": "25e71eb0",
   "metadata": {
    "id": "25e71eb0"
   },
   "outputs": [],
   "source": [
    "data = list(zip(data, flag))\n",
    "df_hindi = pd.DataFrame(data,columns=['sentences','flag'])"
   ]
  },
  {
   "cell_type": "code",
   "execution_count": 12,
   "id": "c3ba9751",
   "metadata": {
    "id": "c3ba9751",
    "outputId": "37d07d11-f11a-4f40-b8d2-dcdfe29a3e62"
   },
   "outputs": [
    {
     "name": "stdout",
     "output_type": "stream",
     "text": [
      "GL पिक्सेल उद्धरण ऑब्जेक्ट के प्रयोग को अक्षम करें\n",
      "True\n",
      "False\n",
      "True\n"
     ]
    }
   ],
   "source": [
    "error = ['a', 'b', 'c', 'd', 'e', 'f', 'g', 'h', 'i', 'j', 'k', 'l', 'm', 'n', 'o', 'p', 'q',\n",
    "         'r', 's', 't', 'u', 'v', 'w', 'x', 'y', 'z', '(', ')' ]\n",
    "special_char=['/','.','¨','¾','®','¥','à','¤','©','+','=','%','@','#','$','`','~','-','1','2','3','4','5','6','7','8','9','0']\n",
    "\n",
    "error=error+special_char\n",
    "\n",
    "string = df_hindi['sentences'][45534]\n",
    "string1 ='दायाँ स्थिति इंच अक्षर'\n",
    "string2 = 'GL पिक्सेल उद्धरण ऑब्जेक्ट के प्रयोग को अक्षम करें'\n",
    "def check1(x):\n",
    "    for k in error:\n",
    "        try: \n",
    "            x.index(k.upper())\n",
    "            return False\n",
    "        except ValueError as v:\n",
    "            pass\n",
    "        \n",
    "    return True\n",
    "\n",
    "def check2(x):\n",
    "    for k in error:\n",
    "        try: \n",
    "            x.index(k.lower())\n",
    "            return False\n",
    "        except ValueError as v:\n",
    "            pass\n",
    "        \n",
    "    return True\n",
    "\n",
    "print(string)\n",
    "print(not check1(string) or not check2(string))\n",
    "print(not check1(string1) or not check2(string1))\n",
    "print(not check1(string2) or not check2(string2))\n",
    "df_hindi['flag1'] = df_hindi['sentences'].apply(lambda x: 'False' if (not check1(x)  or not check2(x)) else 'True')"
   ]
  },
  {
   "cell_type": "code",
   "execution_count": 13,
   "id": "ba7409f4",
   "metadata": {
    "id": "ba7409f4"
   },
   "outputs": [],
   "source": [
    "df_hindi['flag2'] = df_hindi['sentences'].apply(lambda x: 'True' if len(x)<90 else 'False')"
   ]
  },
  {
   "cell_type": "code",
   "execution_count": 14,
   "id": "8529b4ec",
   "metadata": {
    "id": "8529b4ec",
    "outputId": "2f361bb8-7999-4436-abec-cf7211505664"
   },
   "outputs": [],
   "source": [
    "flag1 = df_hindi['flag1']\n",
    "flag2 = df_hindi['flag2']\n",
    "df_hindi = df_hindi[df_hindi['flag'] == 'True']\n",
    "df_hindi = df_hindi[df_hindi['flag1'] == 'True']\n",
    "df_hindi = df_hindi[df_hindi['flag2'] == 'True']\n",
    "df_hindi = pd.DataFrame(df_hindi['sentences'][:100000])\n",
    "df_hindi = df_hindi.reset_index(drop = True)\n",
    "\n",
    "\n",
    "\n",
    "df_english['flag1'] = flag1\n",
    "df_english['flag2'] = flag2\n",
    "df_english = df_english[df_english['flag'] == 'True']\n",
    "df_english = df_english[df_english['flag1'] == 'True']\n",
    "df_english = df_english[df_english['flag2'] == 'True']\n",
    "df_english = pd.DataFrame(df_english['sentences'][:100000])\n",
    "df_english = df_english.reset_index(drop=True)"
   ]
  },
  {
   "cell_type": "code",
   "execution_count": 15,
   "id": "1094f30e",
   "metadata": {},
   "outputs": [
    {
     "name": "stdout",
     "output_type": "stream",
     "text": [
      "                                         sentences\n",
      "0  अपने अनुप्रयोग को पहुंचनीयता व्यायाम का लाभ दें\n",
      "                                        sentences\n",
      "0  Give your application an accessibility workout\n"
     ]
    }
   ],
   "source": [
    "print(df_hindi.head(1))\n",
    "print(df_english.head(1))"
   ]
  },
  {
   "cell_type": "code",
   "execution_count": 16,
   "id": "6dd08125",
   "metadata": {
    "id": "6dd08125",
    "outputId": "99e475ee-2f10-4ce3-ccb1-00d74ee349f4"
   },
   "outputs": [
    {
     "name": "stdout",
     "output_type": "stream",
     "text": [
      "100000 100000\n"
     ]
    }
   ],
   "source": [
    "print(len(df_hindi), len(df_english))"
   ]
  },
  {
   "cell_type": "code",
   "execution_count": 17,
   "id": "6fe4dfd0",
   "metadata": {},
   "outputs": [],
   "source": [
    "Hindi = [f'[start] {sentence} [end]' for sentence in df_hindi['sentences']] \n",
    "English = [sentence for sentence in df_english['sentences']]"
   ]
  },
  {
   "cell_type": "code",
   "execution_count": 18,
   "id": "cef90d4c",
   "metadata": {},
   "outputs": [],
   "source": [
    "text_pairs = []\n",
    "\n",
    "for i in range(len(Hindi)):\n",
    "    text_pairs.append([English[i], Hindi[i]])"
   ]
  },
  {
   "cell_type": "code",
   "execution_count": 19,
   "id": "19c3083d",
   "metadata": {},
   "outputs": [
    {
     "name": "stdout",
     "output_type": "stream",
     "text": [
      "['Bhagat Singh established the Youth India Assembly for the freedom of India.', '[start] भगत सिंह ने भारत की आज़ादी के लिए नौजवान भारत सभा की स्थापना की थी।  [end]']\n",
      "[\"Here 's the balloon being filled up with helium,\", '[start] यहां गुब्बारे मे हीलियम भरा जा रहा है,  [end]']\n",
      "['So remind. You are only a reminder.', '[start] अच्छा तो नसीहत करो! तुम तो बस एक नसीहत करनेवाले हो [end]']\n"
     ]
    }
   ],
   "source": [
    "import random\n",
    "for i in range(3):\n",
    "    print(random.choice(text_pairs))"
   ]
  },
  {
   "cell_type": "code",
   "execution_count": 20,
   "id": "41cd340a",
   "metadata": {},
   "outputs": [
    {
     "name": "stdout",
     "output_type": "stream",
     "text": [
      "14562 14793\n"
     ]
    }
   ],
   "source": [
    "max1 = 0\n",
    "max2 = 0\n",
    "index1 = 0\n",
    "index2 = 0\n",
    "for i in range(len(text_pairs)):\n",
    "    if len(text_pairs[i][1])>max2:\n",
    "        max2 = len(Hindi[i])\n",
    "        index2 = i\n",
    "    if len(text_pairs[i][0])>max1:\n",
    "        max1 = len(English[i])\n",
    "        index1 = i\n",
    "        \n",
    "print(index1, index2)"
   ]
  },
  {
   "cell_type": "code",
   "execution_count": 21,
   "id": "db449e1e",
   "metadata": {},
   "outputs": [],
   "source": [
    "random.shuffle(text_pairs)\n",
    "length = len(text_pairs)\n",
    "len_val_samples = int(0.15 * length)"
   ]
  },
  {
   "cell_type": "code",
   "execution_count": 22,
   "id": "b4c9a50e",
   "metadata": {},
   "outputs": [],
   "source": [
    "len_train_samples = length - 2*len_val_samples\n",
    "\n",
    "train_pairs = text_pairs[:len_train_samples]\n",
    "val_pairs = text_pairs[len_train_samples:len_train_samples+len_val_samples]\n",
    "test_pairs = text_pairs[len_train_samples+len_val_samples:]"
   ]
  },
  {
   "cell_type": "code",
   "execution_count": 23,
   "id": "0b732e69",
   "metadata": {},
   "outputs": [],
   "source": [
    "import tensorflow as tf\n",
    "import tensorflow.keras.layers as layers\n",
    "import tensorflow.keras as keras\n",
    "import re\n",
    "import string\n",
    "\n",
    "strip_chars = string.punctuation\n",
    "strip_chars = strip_chars.replace('[', '')\n",
    "strip_chars = strip_chars.replace(']', '')"
   ]
  },
  {
   "cell_type": "code",
   "execution_count": 24,
   "id": "5d5464ef",
   "metadata": {},
   "outputs": [],
   "source": [
    "def custom_standardization(input_string):\n",
    "    lowercase = tf.strings.lower(input_string)\n",
    "    return tf.strings.regex_replace(\n",
    "        lowercase, f\"[{re.escape(strip_chars)}]\", \"\")\n",
    "\n",
    "vocab_size = 15000\n",
    "sequence_length = 20\n",
    "\n",
    "source_vectorization = layers.TextVectorization(\n",
    "    max_tokens=vocab_size,\n",
    "    output_mode=\"int\",\n",
    "    output_sequence_length=sequence_length,\n",
    "    \n",
    ")\n",
    "target_vectorization = layers.TextVectorization(\n",
    "    max_tokens=vocab_size,\n",
    "    output_mode=\"int\",\n",
    "    output_sequence_length=sequence_length + 1,\n",
    "    standardize=custom_standardization,\n",
    ")\n",
    "train_english_texts = [pair[0] for pair in train_pairs]\n",
    "train_hindi_texts = [pair[1] for pair in train_pairs]\n",
    "source_vectorization.adapt(train_english_texts)\n",
    "target_vectorization.adapt(train_hindi_texts)"
   ]
  },
  {
   "cell_type": "code",
   "execution_count": 25,
   "id": "cf495b95",
   "metadata": {},
   "outputs": [
    {
     "name": "stdout",
     "output_type": "stream",
     "text": [
      "2.10.0\n"
     ]
    }
   ],
   "source": [
    "print(tf.__version__)"
   ]
  },
  {
   "cell_type": "code",
   "execution_count": 26,
   "id": "94cb14f0",
   "metadata": {},
   "outputs": [],
   "source": [
    "batch_size = 64\n",
    "\n",
    "def format_dataset(eng, hin):\n",
    "    eng = source_vectorization(eng)\n",
    "    hin = target_vectorization(hin)\n",
    "    return ({\n",
    "        \"english\": eng,\n",
    "        \"hindi\": hin[:, :-1],\n",
    "    }, hin[:, 1:])\n",
    "\n",
    "def make_dataset(pairs):\n",
    "    eng_texts, hin_texts = zip(*pairs)\n",
    "    eng_texts = list(eng_texts)\n",
    "    hin_texts = list(hin_texts)\n",
    "    dataset = tf.data.Dataset.from_tensor_slices((eng_texts, hin_texts))\n",
    "    dataset = dataset.batch(batch_size)\n",
    "    dataset = dataset.map(format_dataset, num_parallel_calls=4)\n",
    "    return dataset.shuffle(2048).prefetch(16).cache()\n",
    "\n",
    "train_ds = make_dataset(train_pairs)\n",
    "val_ds = make_dataset(val_pairs)"
   ]
  },
  {
   "cell_type": "code",
   "execution_count": 28,
   "id": "fe9eb8d6",
   "metadata": {},
   "outputs": [
    {
     "name": "stdout",
     "output_type": "stream",
     "text": [
      "inputs['english'].shape: (64, 20)\n",
      "inputs['hindi'].shape: (64, 20)\n",
      "targets.shape: (64, 20)\n",
      "tf.Tensor(\n",
      "[[   2 1131 1139 ...    0    0    0]\n",
      " [   2  366 4302 ...    0    0    0]\n",
      " [   2   21  124 ...    0    0    0]\n",
      " ...\n",
      " [   2 2074   93 ...    0    0    0]\n",
      " [   2 1330    9 ...   12 1912    3]\n",
      " [   2 2203  481 ...    3    0    0]], shape=(64, 20), dtype=int64)\n",
      "tf.Tensor(\n",
      "[[1131 1139  699 ...    0    0    0]\n",
      " [ 366 4302 1036 ...    0    0    0]\n",
      " [  21  124   16 ...    0    0    0]\n",
      " ...\n",
      " [2074   93 9127 ...    0    0    0]\n",
      " [1330    9   33 ... 1912    3    0]\n",
      " [2203  481   10 ...    0    0    0]], shape=(64, 20), dtype=int64)\n"
     ]
    }
   ],
   "source": [
    "for inputs, targets in train_ds.take(1):\n",
    "    print(f\"inputs['english'].shape: {inputs['english'].shape}\")\n",
    "    print(f\"inputs['hindi'].shape: {inputs['hindi'].shape}\")\n",
    "    print(f\"targets.shape: {targets.shape}\")\n",
    "    print(inputs[\"hindi\"])\n",
    "    print(targets)"
   ]
  },
  {
   "cell_type": "code",
   "execution_count": 29,
   "id": "a2f989dc",
   "metadata": {},
   "outputs": [],
   "source": [
    "class TransformerEncoder(layers.Layer):\n",
    "    def __init__(self, embed_dim, dense_dim, num_heads, **kwargs):\n",
    "        super().__init__(**kwargs)\n",
    "        self.embed_dim = embed_dim\n",
    "        self.dense_dim = dense_dim\n",
    "        self.num_heads = num_heads\n",
    "        self.attention = layers.MultiHeadAttention(\n",
    "            num_heads=num_heads, key_dim=embed_dim)\n",
    "        self.dense_proj = keras.Sequential(\n",
    "            [layers.Dense(dense_dim, activation=\"relu\"),\n",
    "             layers.Dense(embed_dim),]\n",
    "        )\n",
    "        self.layernorm_1 = layers.LayerNormalization()\n",
    "        self.layernorm_2 = layers.LayerNormalization()\n",
    "\n",
    "    def call(self, inputs, mask=None):\n",
    "        if mask is not None:\n",
    "            mask = mask[:, tf.newaxis, :]\n",
    "        attention_output = self.attention(\n",
    "            inputs, inputs, attention_mask=mask)\n",
    "        proj_input = self.layernorm_1(inputs + attention_output)\n",
    "        proj_output = self.dense_proj(proj_input)\n",
    "        return self.layernorm_2(proj_input + proj_output)\n",
    "\n",
    "    def get_config(self):\n",
    "        config = super().get_config()\n",
    "        config.update({\n",
    "            \"embed_dim\": self.embed_dim,\n",
    "            \"num_heads\": self.num_heads,\n",
    "            \"dense_dim\": self.dense_dim,\n",
    "        })\n",
    "        return config"
   ]
  },
  {
   "cell_type": "code",
   "execution_count": 30,
   "id": "98f8b724",
   "metadata": {},
   "outputs": [],
   "source": [
    "class TransformerDecoder(layers.Layer):\n",
    "    def __init__(self, embed_dim, dense_dim, num_heads, **kwargs):\n",
    "        super().__init__(**kwargs)\n",
    "        self.embed_dim = embed_dim\n",
    "        self.dense_dim = dense_dim\n",
    "        self.num_heads = num_heads\n",
    "        self.attention_1 = layers.MultiHeadAttention(\n",
    "            num_heads=num_heads, key_dim=embed_dim)\n",
    "        self.attention_2 = layers.MultiHeadAttention(\n",
    "            num_heads=num_heads, key_dim=embed_dim)\n",
    "        self.dense_proj = keras.Sequential(\n",
    "            [layers.Dense(dense_dim, activation=\"relu\"),\n",
    "             layers.Dense(embed_dim),]\n",
    "        )\n",
    "        self.layernorm_1 = layers.LayerNormalization()\n",
    "        self.layernorm_2 = layers.LayerNormalization()\n",
    "        self.layernorm_3 = layers.LayerNormalization()\n",
    "        self.supports_masking = True\n",
    "\n",
    "    def get_config(self):\n",
    "        config = super().get_config()\n",
    "        config.update({\n",
    "            \"embed_dim\": self.embed_dim,\n",
    "            \"num_heads\": self.num_heads,\n",
    "            \"dense_dim\": self.dense_dim,\n",
    "        })\n",
    "        return config\n",
    "\n",
    "    def get_causal_attention_mask(self, inputs):\n",
    "        input_shape = tf.shape(inputs)\n",
    "        batch_size, sequence_length = input_shape[0], input_shape[1]\n",
    "        i = tf.range(sequence_length)[:, tf.newaxis]\n",
    "        j = tf.range(sequence_length)\n",
    "        mask = tf.cast(i >= j, dtype=\"int32\")\n",
    "        mask = tf.reshape(mask, (1, input_shape[1], input_shape[1]))\n",
    "        mult = tf.concat(\n",
    "            [tf.expand_dims(batch_size, -1),\n",
    "             tf.constant([1, 1], dtype=tf.int32)], axis=0)\n",
    "        return tf.tile(mask, mult)\n",
    "\n",
    "    def call(self, inputs, encoder_outputs, mask=None):\n",
    "        causal_mask = self.get_causal_attention_mask(inputs)\n",
    "        if mask is not None:\n",
    "            padding_mask = tf.cast(\n",
    "                mask[:, tf.newaxis, :], dtype=\"int32\")\n",
    "            padding_mask = tf.minimum(padding_mask, causal_mask)\n",
    "        attention_output_1 = self.attention_1(\n",
    "            query=inputs,\n",
    "            value=inputs,\n",
    "            key=inputs,\n",
    "            attention_mask=causal_mask)\n",
    "        attention_output_1 = self.layernorm_1(inputs + attention_output_1)\n",
    "        attention_output_2 = self.attention_2(\n",
    "            query=attention_output_1,\n",
    "            value=encoder_outputs,\n",
    "            key=encoder_outputs,\n",
    "            attention_mask=padding_mask,\n",
    "        )\n",
    "        attention_output_2 = self.layernorm_2(\n",
    "            attention_output_1 + attention_output_2)\n",
    "        proj_output = self.dense_proj(attention_output_2)\n",
    "        return self.layernorm_3(attention_output_2 + proj_output)"
   ]
  },
  {
   "cell_type": "code",
   "execution_count": 31,
   "id": "2c65839c",
   "metadata": {},
   "outputs": [],
   "source": [
    "class PositionalEmbedding(layers.Layer):\n",
    "    def __init__(self, sequence_length, input_dim, output_dim, **kwargs):\n",
    "        super().__init__(**kwargs)\n",
    "        self.token_embeddings = layers.Embedding(\n",
    "            input_dim=input_dim, output_dim=output_dim)\n",
    "        self.position_embeddings = layers.Embedding(\n",
    "            input_dim=sequence_length, output_dim=output_dim)\n",
    "        self.sequence_length = sequence_length\n",
    "        self.input_dim = input_dim\n",
    "        self.output_dim = output_dim\n",
    "\n",
    "    def call(self, inputs):\n",
    "        length = tf.shape(inputs)[-1]\n",
    "        positions = tf.range(start=0, limit=length, delta=1)\n",
    "        embedded_tokens = self.token_embeddings(inputs)\n",
    "        embedded_positions = self.position_embeddings(positions)\n",
    "        return embedded_tokens + embedded_positions\n",
    "\n",
    "    def compute_mask(self, inputs, mask=None):\n",
    "        return tf.math.not_equal(inputs, 0)\n",
    "\n",
    "    def get_config(self):\n",
    "        config = super(PositionalEmbedding, self).get_config()\n",
    "        config.update({\n",
    "            \"output_dim\": self.output_dim,\n",
    "            \"sequence_length\": self.sequence_length,\n",
    "            \"input_dim\": self.input_dim,\n",
    "        })\n",
    "        return config"
   ]
  },
  {
   "cell_type": "code",
   "execution_count": 33,
   "id": "15b522c5",
   "metadata": {},
   "outputs": [],
   "source": [
    "embed_dim = 256\n",
    "dense_dim = 2048\n",
    "num_heads = 8\n",
    "\n",
    "encoder_inputs = keras.Input(shape=(None,), dtype=\"int64\", name=\"english\")\n",
    "x = PositionalEmbedding(sequence_length, vocab_size, embed_dim)(encoder_inputs)\n",
    "encoder_outputs = TransformerEncoder(embed_dim, dense_dim, num_heads)(x)\n",
    "\n",
    "decoder_inputs = keras.Input(shape=(None,), dtype=\"int64\", name=\"hindi\")\n",
    "x = PositionalEmbedding(sequence_length, vocab_size, embed_dim)(decoder_inputs)\n",
    "x = TransformerDecoder(embed_dim, dense_dim, num_heads)(x, encoder_outputs)\n",
    "x = layers.Dropout(0.5)(x)\n",
    "decoder_outputs = layers.Dense(vocab_size, activation=\"softmax\")(x)\n",
    "transformer = keras.Model([encoder_inputs, decoder_inputs], decoder_outputs)"
   ]
  },
  {
   "cell_type": "code",
   "execution_count": 34,
   "id": "69eebcde",
   "metadata": {},
   "outputs": [
    {
     "name": "stdout",
     "output_type": "stream",
     "text": [
      "Model: \"model_1\"\n",
      "__________________________________________________________________________________________________\n",
      " Layer (type)                   Output Shape         Param #     Connected to                     \n",
      "==================================================================================================\n",
      " english (InputLayer)           [(None, None)]       0           []                               \n",
      "                                                                                                  \n",
      " hindi (InputLayer)             [(None, None)]       0           []                               \n",
      "                                                                                                  \n",
      " positional_embedding_2 (Positi  (None, None, 256)   3845120     ['english[0][0]']                \n",
      " onalEmbedding)                                                                                   \n",
      "                                                                                                  \n",
      " positional_embedding_3 (Positi  (None, None, 256)   3845120     ['hindi[0][0]']                  \n",
      " onalEmbedding)                                                                                   \n",
      "                                                                                                  \n",
      " transformer_encoder_1 (Transfo  (None, None, 256)   3155456     ['positional_embedding_2[0][0]'] \n",
      " rmerEncoder)                                                                                     \n",
      "                                                                                                  \n",
      " transformer_decoder_1 (Transfo  (None, None, 256)   5259520     ['positional_embedding_3[0][0]', \n",
      " rmerDecoder)                                                     'transformer_encoder_1[0][0]']  \n",
      "                                                                                                  \n",
      " dropout_1 (Dropout)            (None, None, 256)    0           ['transformer_decoder_1[0][0]']  \n",
      "                                                                                                  \n",
      " dense_9 (Dense)                (None, None, 15000)  3855000     ['dropout_1[0][0]']              \n",
      "                                                                                                  \n",
      "==================================================================================================\n",
      "Total params: 19,960,216\n",
      "Trainable params: 19,960,216\n",
      "Non-trainable params: 0\n",
      "__________________________________________________________________________________________________\n"
     ]
    }
   ],
   "source": [
    "transformer.summary()"
   ]
  },
  {
   "cell_type": "code",
   "execution_count": 35,
   "id": "ee6a1562",
   "metadata": {},
   "outputs": [
    {
     "name": "stdout",
     "output_type": "stream",
     "text": [
      "Epoch 1/10\n",
      "1094/1094 [==============================] - 82s 69ms/step - loss: 2.5244 - accuracy: 0.3439 - val_loss: 1.7395 - val_accuracy: 0.4774\n",
      "Epoch 2/10\n",
      "1094/1094 [==============================] - 77s 70ms/step - loss: 1.5795 - accuracy: 0.5302 - val_loss: 1.2865 - val_accuracy: 0.6067\n",
      "Epoch 3/10\n",
      "1094/1094 [==============================] - 80s 73ms/step - loss: 1.1902 - accuracy: 0.6276 - val_loss: 1.1362 - val_accuracy: 0.6538\n",
      "Epoch 4/10\n",
      "1094/1094 [==============================] - 81s 74ms/step - loss: 0.9908 - accuracy: 0.6788 - val_loss: 1.0818 - val_accuracy: 0.6762\n",
      "Epoch 5/10\n",
      "1094/1094 [==============================] - 81s 74ms/step - loss: 0.8635 - accuracy: 0.7111 - val_loss: 1.0585 - val_accuracy: 0.6889\n",
      "Epoch 6/10\n",
      "1094/1094 [==============================] - 82s 75ms/step - loss: 0.7727 - accuracy: 0.7344 - val_loss: 1.0533 - val_accuracy: 0.6985\n",
      "Epoch 7/10\n",
      "1094/1094 [==============================] - 82s 75ms/step - loss: 0.7001 - accuracy: 0.7532 - val_loss: 1.0620 - val_accuracy: 0.7040\n",
      "Epoch 8/10\n",
      "1094/1094 [==============================] - 83s 76ms/step - loss: 0.6425 - accuracy: 0.7688 - val_loss: 1.0679 - val_accuracy: 0.7102\n",
      "Epoch 9/10\n",
      "1094/1094 [==============================] - 82s 75ms/step - loss: 0.5917 - accuracy: 0.7827 - val_loss: 1.0905 - val_accuracy: 0.7141\n",
      "Epoch 10/10\n",
      "1094/1094 [==============================] - 82s 75ms/step - loss: 0.5489 - accuracy: 0.7952 - val_loss: 1.0919 - val_accuracy: 0.7155\n"
     ]
    },
    {
     "data": {
      "text/plain": [
       "<keras.callbacks.History at 0x1bc0082feb0>"
      ]
     },
     "execution_count": 35,
     "metadata": {},
     "output_type": "execute_result"
    }
   ],
   "source": [
    "transformer.compile(\n",
    "    optimizer=\"adam\",\n",
    "    loss=\"sparse_categorical_crossentropy\",\n",
    "    metrics=[\"accuracy\"])\n",
    "transformer.fit(train_ds, epochs=10, validation_data=val_ds)"
   ]
  },
  {
   "cell_type": "code",
   "execution_count": 36,
   "id": "80340ed1",
   "metadata": {
    "scrolled": false
   },
   "outputs": [
    {
     "name": "stdout",
     "output_type": "stream",
     "text": [
      "-\n",
      "That He did create in pairs, - male and female,\n",
      "[start] कि और यह है कि हमने उस बस्ती में जो भी जो चीज़ रखी हैं [end]\n",
      "-\n",
      "Did you receive the story of Moses,\n",
      "[start] क्या तुम्हें मूसा की ख़बर पहुँची है [end]\n",
      "-\n",
      "How many lines that must be typed before level can change\n",
      "[start] कितनी [UNK] [UNK] के लिए कैसे आप [UNK] सकते हैं [end]\n",
      "-\n",
      "There 's an apple in this boy' s pocket.\n",
      "[start] इस जंग के लड़का एक औरत की चीज़ है [end]\n",
      "-\n",
      "But he did not reply to my question.\n",
      "[start] लेकिन वह हमारी हस्ताक्षर की बात नहीं कर सकता। [end]\n",
      "-\n",
      "O Prophet! Indeed We have sent you as a witness, as a bearer of good news and as a warner\n",
      "[start] निश्चय ही वह चीज़ हमेशा रहेंगें और वह रहने और ठहरने की अच्छी है [end]\n",
      "-\n",
      "“Indeed I fear upon you the punishment of a Great Day. ”\n",
      "[start] निश्चय ही मुझे तुम्हारे बारे में एक बड़े दिन की यातना का भय है। [end]\n",
      "-\n",
      "The other participant canceled the file transfer\n",
      "[start] दूसरे सहभागी ने फ़ाइल हस्तांतरण रद्द किया [end]\n",
      "-\n",
      "Directories cannot be added to video or audio discs\n",
      "[start] निर्देशिकाओं को विडियो या श्रव्य डिस्क में जोड़ी नहीं जा सकती है [end]\n",
      "-\n",
      "Video; Movie; Film; Clip; Series; Player; DVD; TV; Disc;\n",
      "[start] मीडिया स्ट्रीम को टीवी चैनलों में कहें। [end]\n",
      "-\n",
      "Specify the size and location of the main window\n",
      "[start] आकार और स्थान का मुख्य विंडो [end]\n",
      "-\n",
      "A problem occurred while trying to open the files used to store the console output.\n",
      "[start] एक त्रुटि हुई जब के बजाय फाइल के लिए एक समस्या पर दिया गया [end]\n",
      "-\n",
      "Kill switch enabled on ${iface} ${iface}\n",
      "[start] रिमोट संचरण के अनुसार [UNK] [end]\n",
      "-\n",
      "Always display image save assistant\n",
      "[start] फ़ोल्डर में हैण्डल प्रदर्शित करें [end]\n",
      "-\n",
      "Show memo preview alongside the memo list\n",
      "[start] संदेश सूची के बगल में ज्ञापन पूर्वावलोकन दिखाता है [end]\n",
      "-\n",
      "Those who fulfill the promise to God, and do not violate the agreement.\n",
      "[start] जो अल्लाह के साथ की हुई प्रतिज्ञा को पूरा करते है औऱ अभिवचन को तोड़ते नहीं [end]\n",
      "-\n",
      "which smote them with stones of baked clay,\n",
      "[start] उनपर कंकरीले पत्थर मार रहे थे [end]\n",
      "-\n",
      "A treaty has made the relations of India better.\n",
      "[start] भारत सरकार ने बहुत अच्छे कैड़े का पैदा किया [end]\n",
      "-\n",
      "There are markings on many plants\n",
      "[start] वहां पर बहुत [UNK] हैं [end]\n",
      "-\n",
      "Enter new password for certificate database\n",
      "[start] प्रमाणपत्र डाटाबेस के लिए नया कूटशब्द दाखिल करें [end]\n",
      "-\n",
      "She leaves the day - to - day running of the company to her subordinates.\n",
      "[start] वह दिन की दिन में होगा कि वह दिन बहुत ही कठोर हवा है [end]\n",
      "-\n",
      "I 'm sleepy. I' m going to sleep. Good night.\n",
      "[start] मैं पन्द्रह साल [UNK] है। [end]\n",
      "-\n",
      "When there cometh the succour of Allah and the victory,\n",
      "[start] ऐ रसूल जब ख़ुदा की मदद आ पहँचेगी [end]\n",
      "-\n",
      "Did He not find you wandering about and give you guidance?\n",
      "[start] और तुमको एहकाम से नावाकिफ़ देखा तो मंज़िले मक़सूद तक पहुँचा दिया [end]\n",
      "-\n",
      "So I swear by the retreating stars -\n",
      "[start] तो मैं तारों के मनाज़िल की क़सम खाता हूँ [end]\n",
      "-\n",
      "Keep output files even on success\n",
      "[start] आउटपुट पर [UNK] [UNK] से पूछा [end]\n",
      "-\n",
      "End the current network game and return to network server\n",
      "[start] मौजूदा संजाल खेल का अंत करें और संजाल सर्वर पर लौटें [end]\n",
      "-\n",
      "So it shall only be a single cry, when lo! they shall see.\n",
      "[start] तो ये कि जहन्नुम में बाहम झगड़ा होगा और अपने माबूद से कहेंगे [end]\n",
      "-\n",
      "Reset the widgets docking layout to default\n",
      "[start] रीसेट को डिफ़ॉल्ट [end]\n",
      "-\n",
      "The certificate contains errors\n",
      "[start] प्रमाणपत्र में त्रुटियां [end]\n",
      "-\n",
      "the punishment of their Lord is not something for them to feel secure of,\n",
      "[start] तो तुम उसके ज़िक्र से किस फ़िक्र में हो [end]\n",
      "-\n",
      "Use currently selected profile in GNOME terminal\n",
      "[start] उपयोग चयनित इंच गनोम टर्मिनल [end]\n",
      "-\n",
      "Ah woe, that Day, to the Rejecters of Truth!\n",
      "[start] उस दिन झुठलाने वालों की ख़राबी है [end]\n",
      "-\n",
      "and will be subjected to condemnation until the Day of Judgment. \"\n",
      "[start] निश्चय ही बदला दिए जाने के दिन तक तुम्हारे लिए चेकसम भी हमे प्रयोग में है [end]\n",
      "-\n",
      "And upon them and on ships you are carried.\n",
      "[start] और उनपर और नौकाओं पर तुम सवार होते हो [end]\n",
      "-\n",
      "Preview the list of tasks to be printed\n",
      "[start] छापे जाने वाले कार्यों की सूची का पूर्वावलोकन करें [end]\n",
      "-\n",
      "Import bookmarks from another browser or a bookmarks file\n",
      "[start] अन्य ब्राउज़र या पसंद फ़ाइल से पसंद आयात करें [end]\n",
      "-\n",
      "You don 't want Americans to die. Protect our troops.\n",
      "[start] आप [UNK] का [UNK] [UNK] का डर नहीं है [end]\n",
      "-\n",
      "Then he turned towards their gods and said: \"Why do you not eat (of these offerings)?\n",
      "[start] फिर वह आँख बचाकर उनके देवताओं की ओर गया और कहा क्या तुम खाते नहीं [end]\n",
      "-\n",
      "and no nation outstrips its term, nor do they put it back.\n",
      "[start] और किसी समुदाय के लोग न अपने निश्चित समय से आगे बढ़ सकते है और न वे पीछे रह सकते\n"
     ]
    }
   ],
   "source": [
    "import numpy as np\n",
    "hin_vocab = target_vectorization.get_vocabulary()\n",
    "hin_index_lookup = dict(zip(range(len(hin_vocab)), hin_vocab))\n",
    "max_decoded_sentence_length = 20\n",
    "\n",
    "def decode_sequence(input_sentence):\n",
    "    tokenized_input_sentence = source_vectorization([input_sentence])\n",
    "    decoded_sentence = \"[start]\"\n",
    "    for i in range(max_decoded_sentence_length):\n",
    "        tokenized_target_sentence = target_vectorization(\n",
    "            [decoded_sentence])[:, :-1]\n",
    "        predictions = transformer(\n",
    "            [tokenized_input_sentence, tokenized_target_sentence])\n",
    "        sampled_token_index = np.argmax(predictions[0, i, :])\n",
    "        sampled_token = hin_index_lookup[sampled_token_index]\n",
    "        decoded_sentence += \" \" + sampled_token\n",
    "        if sampled_token == \"[end]\":\n",
    "            break\n",
    "    return decoded_sentence\n",
    "\n",
    "test_eng_texts = [pair[0] for pair in test_pairs]\n",
    "for _ in range(40):\n",
    "    input_sentence = random.choice(test_eng_texts)\n",
    "    print(\"-\")\n",
    "    print(input_sentence)\n",
    "    print(decode_sequence(input_sentence))"
   ]
  },
  {
   "cell_type": "code",
   "execution_count": null,
   "id": "4a9d2b8c",
   "metadata": {},
   "outputs": [],
   "source": []
  }
 ],
 "metadata": {
  "colab": {
   "provenance": []
  },
  "kernelspec": {
   "display_name": "Python 3 (ipykernel)",
   "language": "python",
   "name": "python3"
  },
  "language_info": {
   "codemirror_mode": {
    "name": "ipython",
    "version": 3
   },
   "file_extension": ".py",
   "mimetype": "text/x-python",
   "name": "python",
   "nbconvert_exporter": "python",
   "pygments_lexer": "ipython3",
   "version": "3.9.0"
  }
 },
 "nbformat": 4,
 "nbformat_minor": 5
}
